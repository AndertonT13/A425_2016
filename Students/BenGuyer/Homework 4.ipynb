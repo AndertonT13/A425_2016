{
 "cells": [
  {
   "cell_type": "markdown",
   "metadata": {},
   "source": [
    "## Homework 4, Ben Guyer"
   ]
  },
  {
   "cell_type": "markdown",
   "metadata": {},
   "source": [
    "**Problem 1**\n"
   ]
  },
  {
   "cell_type": "markdown",
   "metadata": {},
   "source": [
    "**A**: Previously, we derived the expression: $\\frac{a(t_0)}{a(t_e)} = 1 + z$. For this problem, $\\frac{1}{a(t_1)} = 1 + z_1$ and $\\frac{1}{a(t_2)} = 1 + z_2$. Lets define $Z$ to be the redshift of galaxy 2 as seen by galaxy 1 so $Z = \\frac{a(t_1)}{a(t_2)} - 1$. Divide the expression for $z_2$ by the equation for $z_1$ to get $\\frac{a(t_1)}{a(t_2)} = \\frac{1+z_1}{1+z_2}$. Then we can just subtract $1$ from both sides to get the expression for $Z$.\n",
    "\n",
    "$Z = \\frac{1+z_2}{1+z_1} - 1$"
   ]
  },
  {
   "cell_type": "markdown",
   "metadata": {},
   "source": [
    "**B**: Angular diameter distance is given by the formula $d_a = \\frac{S_k(r)}{1+z}$. The Einstein-DeSitter universe is flat, so $S_k(r) = r$. From Hubble's law (which we can use since the redshifts are small) $v = H_0 * r$, so $r = \\frac{v}{H_0}$. Finding redshift in terms of velocity is somewhat nasty, luckily [Hyper Physics](http://hyperphysics.phy-astr.gsu.edu/hbase/Astro/redshf.html) has this equation: $\\frac{v}{c} = \\frac{(z+1)^2 -1}{(z+1)^2 +1}$. We can then solve for distance in terms of redshift: $r = \\frac{c}{H_0} * \\frac{(z+1)^2 -1}{(z+1)^2 +1}$. And finally angular diameter distance in terms of redshift: $d_a = \\frac{c}{H_0 (1+z)} * \\frac{(z+1)^2 -1}{(z+1)^2 +1}$.\n",
    "\n",
    "The angular diameter distance to galaxy 1 and 2 is then $d_a(0.5) = 1098.9$ Mpc and $d_a(1.6) = 1223.5$ Mpc. Using the equation from part a, we can find the redshift of galaxy 2 as seen from galaxy 1 is $Z = 0.733...$. The angular diameter distance of galaxy 2 as seen from galaxy 1 is then $d_a(0.733...) = 1237.6$ Mpc."
   ]
  },
  {
   "cell_type": "markdown",
   "metadata": {},
   "source": [
    "**C**: It seems weird that the angular diameter distance of 2 is greater from galaxy 1 than from the origin. This is just the usual quirk of angular diameter distances though -- for large distances they actually get begin to get smaller. This is because angular size measures the separation between two equidistant points on the sky. As the points get farther away, their separation does as well, due to the usual behavior of triogonometry in flat spaces. But at extreme distances, the shrinking scale factor of the universe overcomes this effect, and the two points become closer together."
   ]
  },
  {
   "cell_type": "markdown",
   "metadata": {},
   "source": [
    "**Problem 2**"
   ]
  },
  {
   "cell_type": "markdown",
   "metadata": {},
   "source": [
    "There are 1000 galaxies within a half-mass radius of 1.5Mpc. The density is therefore:\n",
    "$\\rho = \\frac{1000}{\\frac{4}{3} \\pi 1.5^3} = 70.7 \\frac{Galaxies}{Mpc ^3}$\n",
    "\n",
    "Using the formula on Ryden pg. 188, the mean free path can be estimated as $ l = \\frac{1}{\\sigma \\rho} = \\frac{1}{10^{-3} * 70} = 14.2 Mpc$. (This is a pretty bad approximation, but it's the one our textbook uses, so I figured it was the one you want).\n",
    "\n",
    "$880 \\frac{Km}{s} = 2.852*10^{-17} \\frac{Mpc}{s}$ So the time scale of collisions is $\\frac{14.2}{2.852*10^{-17}} = 4.97*10^{17} s = 15.76 Gyrs$. This is longer than the Hubble time of approximately 14.4 Gyrs."
   ]
  },
  {
   "cell_type": "markdown",
   "metadata": {},
   "source": []
  }
 ],
 "metadata": {
  "kernelspec": {
   "display_name": "Python 2",
   "language": "python",
   "name": "python2"
  },
  "language_info": {
   "codemirror_mode": {
    "name": "ipython",
    "version": 2
   },
   "file_extension": ".py",
   "mimetype": "text/x-python",
   "name": "python",
   "nbconvert_exporter": "python",
   "pygments_lexer": "ipython2",
   "version": "2.7.6"
  }
 },
 "nbformat": 4,
 "nbformat_minor": 1
}
