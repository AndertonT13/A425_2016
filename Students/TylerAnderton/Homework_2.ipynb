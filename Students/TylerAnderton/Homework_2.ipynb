{
 "cells": [
  {
   "cell_type": "markdown",
   "metadata": {},
   "source": [
    "# 1\n",
    "\n",
    "We assume an Olberian universe to be infinitely old, infinitely big, and homogenous and isotropic throughout, with a density of stars of $n=10^9$ Mpc$^{-1}$ and a diameter of $d=7*10^8$ m for each star. We want to calculate the minimum distance in such a universe such that any line of sight from an arbitrary point is guaranteed to collide with a star. We will call this distance $R$. \n",
    "\n",
    "The solid angle that each star creates on the celestial sphere, $\\omega$, is\n",
    "\n",
    "$\\omega=\\iint_S\\frac{\\bf{\\hat{n}}\\cdot\\bf{da}}{r^2}=\\int_0^{2\\pi}\\int_0^d\\frac{d'dd'd\\theta}{r^2}=\\frac{{\\pi}d^2}{r^2}$\n",
    "\n",
    "We also know that the number of stars in a given area $N(r)$ can be calculated by\n",
    "\n",
    "$N(r)=\\frac{4}{3}n{\\pi}r^3$\n",
    "\n",
    "It follows then that the number of stars in a spherical shell of thickness $dr$ is\n",
    "\n",
    "$dN=4n{\\pi}r^2dr$\n",
    "\n",
    "The total solid angle covered by all stars within a distance $R$ would then be\n",
    "\n",
    "$\\Omega=\\int_{r=0}^{r=R}{\\omega}dN=4n\\pi^2d^2\\int_0^Rdr=4n\\pi^2d^2R=4\\pi$\n",
    "\n",
    "Set equal to $4\\pi$ because we want the total solid angle to cover all possible lines of sight. Solving for $R$ yeilds\n",
    "\n",
    "$R=\\frac{1}{n{\\pi}d^2}=1.94*10^{40}$ m$=6.24*10^{17}$ Mpc"
   ]
  },
  {
   "cell_type": "markdown",
   "metadata": {},
   "source": [
    "#2\n",
    "We know in general that\n",
    "\n",
    "$v=Hr$\n",
    "\n",
    "$r=v/H$\n",
    "\n",
    "With these relationships, we can find the ratio of error between Hubble's distance measurement $r_H$ and today's measurement $r_0$ while assuming a constant rate of expansion $v$:\n",
    "\n",
    "$\\frac{r_0-r_H}{r_0}=\\frac{\\frac{v}{H_0}-\\frac{v}{H_H}}{\\frac{v}{H_0}}=\\frac{vH_0(\\frac{H_H-H_0}{H_0H_H})}{v}=\\frac{H_H-H_0}{H_H}$\n",
    "\n",
    "where $H_H$ is Hubble's derivation of his constant: \n",
    "\n",
    "$H_H=500$ km s$^{-1}$ Mpc$^{-1}=0.516$ Gyr$^{-1}$\n",
    "\n",
    "This is much less than the currently accepted age of the universe, $t_0=13.7$ Gyr, from which $H_0$ can be derived:\n",
    "\n",
    "$H_0=\\frac{1}{t_0}=0.0730$ Gyr$^{-1}$\n",
    "\n",
    "Then, inputing these values to the equation above, we can see that Hubble was off in his distance measurements by a ratio of about:\n",
    "\n",
    "$\\frac{H_H-H_0}{H_H}=0.859$"
   ]
  },
  {
   "cell_type": "code",
   "execution_count": null,
   "metadata": {
    "collapsed": true
   },
   "outputs": [],
   "source": []
  }
 ],
 "metadata": {
  "kernelspec": {
   "display_name": "Python 2",
   "language": "python",
   "name": "python2"
  },
  "language_info": {
   "codemirror_mode": {
    "name": "ipython",
    "version": 2
   },
   "file_extension": ".py",
   "mimetype": "text/x-python",
   "name": "python",
   "nbconvert_exporter": "python",
   "pygments_lexer": "ipython2",
   "version": "2.7.10"
  }
 },
 "nbformat": 4,
 "nbformat_minor": 0
}
