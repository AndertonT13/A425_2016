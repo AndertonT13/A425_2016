{
 "cells": [
  {
   "cell_type": "markdown",
   "metadata": {},
   "source": [
    "1 a)\n",
    "\n",
    "We know redshift is equal to the wavelength observed minus wavelength emitted divided by the wavelength emitted. $z = (\\lambda_o - \\lambda_e)/(\\lambda_e)$. \n",
    "Rearranging: $$z = \\lambda_o / \\lambda_e -1 $$\n",
    "\n",
    "For each specific galaxy:\n",
    "$$z_2 = \\frac{\\lambda_{o,0}}{\\lambda_{e,1}} - 1$$\n",
    "$$ z_1 = \\frac{\\lambda_{o,0}}{\\lambda_{e,2}} - 1 $$\n",
    "Where $\\lambda_{o,0} = $ wavelength observed by an observer not in galaxy 1 or 2 and $\\lambda_{e,n}$ = wavelength emitted by galaxy n.\n",
    "\n",
    "To get redshift of galaxy 2 in galaxy 1:\n",
    "$$ z_{2,1}  = \\frac{\\lambda_{o,1}}{\\lambda_{e,2}}-1 $$\n",
    "Where: $z_{2,1}=$ redshift of galaxy 2 in galaxy 1 and $\\lambda_{o,1} = $ wavelength observed by galaxy 1.  \n",
    "Next, substitute $\\lambda_{e,2}$ from $z_2$ into $z_{2,1}$ to get:\n",
    "$$ z_{2,1} = \\frac{\\lambda_{o,1}}{\\lambda_{o,0}}(z_2+1)-1$$\n",
    "Since we are finding redshift at galaxy 1, we know $\\lambda_{o,1} = \\lambda_{e,1}$, the wavelength observed in galaxy 1 is equal to the wavelength emitted in galaxy 1, for a given wavelength. Taking advantage of this equation as well as the above equation for $z_1$, we can substitute and simplify to get:\n",
    "$$z_{2,1} = \\frac{z_2+1}{z_1+1}-1$$"
   ]
  },
  {
   "cell_type": "markdown",
   "metadata": {},
   "source": [
    "1 b)\n",
    "Angular diameter distance:\n",
    "$$ d_a = \\frac{r}{1+z} $$\n",
    "Where r = proper distance, given by the following integral:\n",
    "$$ r = \\int_{0}^{z}\\frac{cdz}{H_0\\sqrt{\\Omega_{m,0}(1+z)^3}} $$\n"
   ]
  },
  {
   "cell_type": "code",
   "execution_count": 1,
   "metadata": {
    "collapsed": false
   },
   "outputs": [
    {
     "name": "stdout",
     "output_type": "stream",
     "text": [
      "Ang. Diam. Distance to galaxy 1: 2005.0987111965765 Mpc\n",
      "Ang. Diam. Distance to galaxy 2: 6523.070420030639 Mpc\n",
      "Ang. Diam. Distance to galaxy 2 from galaxy 1: 2921.034319000819 Mpc\n",
      "Redshift of galaxy 2 from galaxy 1:  0.7333333333333334\n"
     ]
    }
   ],
   "source": [
    "import numpy as np\n",
    "from astropy import units as u\n",
    "from astropy import constants as const\n",
    "from scipy import integrate\n",
    "import matplotlib.pyplot as plt\n",
    "from IPython.core.debugger import Tracer\n",
    "%matplotlib inline\n",
    "Kpc = u.def_unit('Kpc',u.pc*10**3) #define Kpc\n",
    "Mpc = u.def_unit('Mpc',u.pc*10**6) #define Mpc\n",
    "Gyr = u.def_unit('Gyr',u.yr*10**9) #define Gyr\n",
    "\n",
    "#givens\n",
    "z1 = 0.5\n",
    "z2 = 1.6\n",
    "H_0 = 70 *u.km/(u.s * u.Mpc)\n",
    "\n",
    "#find redshift from above\n",
    "z21 = ((z2+1)/(z1+1))-1\n",
    "\n",
    "#now to integrate and get proper distance:\n",
    "# Omega_m = 1, can ignore, giving:\n",
    "\n",
    "def prop_int(z): #integrand for finding r\n",
    "    p =((1+z)**3)**(1/2)\n",
    "    return p\n",
    "def prop(z):\n",
    "    r = integrate.quad(prop_int,0,z)\n",
    "    return r\n",
    "r1 = prop(z1)[0]*(const.c/H_0)\n",
    "r2 = prop(z2)[0]*(const.c/H_0)\n",
    "r21 = prop(z21)[0]*(const.c/H_0)\n",
    "\n",
    "angd_01 =(1/(1+z1))*r1 # ang diam from observer to 1\n",
    "angd_02 =(1/(1+z2))*r2 # ang diam from observer to 2\n",
    "angd_12 =(1/(1+z21))*r21# ang diam from 1 to 2\n",
    "\n",
    "print ('Ang. Diam. Distance to galaxy 1:',angd_01.to(u.Mpc))\n",
    "print ('Ang. Diam. Distance to galaxy 2:',angd_02.to(u.Mpc))\n",
    "print ('Ang. Diam. Distance to galaxy 2 from galaxy 1:',angd_12.to(u.Mpc))\n",
    "print ('Redshift of galaxy 2 from galaxy 1: ',z21)"
   ]
  },
  {
   "cell_type": "markdown",
   "metadata": {},
   "source": [
    "1c) We know that the angular diameter distance increases to a critical value at z_{crit} = 1.6. Therefore, we expect the angular diameter distance to increase until $z=z_{crit}$, which we see from the above calculations, since $z_2 = z_{crit}$ and $d_{a,1}<d_{a,2}$\n",
    "\n",
    "We also determined that $z_1 < z_{2,1} < z_2$, so we would then guess that $d_{a,z_1}<d_{a,z_{2,1}}<d_{a,z_2}$, which is confirmed by our above calculations."
   ]
  },
  {
   "cell_type": "markdown",
   "metadata": {},
   "source": [
    "2)\n",
    "\n",
    "To calculate mean number density, let N = # of galaxies (1000) and V = volume of sphere with radius = half mass radius:\n",
    "\n",
    "mean number density = $\\frac{AvgGalaxies}{Volume} = \\frac{N}{V} $ and\n",
    "$ V = \\frac{4}{3}\\pi r^3 $ where r = $R_{hm}=1.5 Mpc$\n",
    "$$ $$\n",
    "Giving:\n",
    "$$ \\frac{1000}{\\frac{4}{3}\\pi r^3} = \\frac{1000}{\\frac{4}{3}\\pi R_{hm}^3} = \\frac{1000}{\\frac{4}{3}\\pi (1.5)^3}=70.73553(\\frac{Galaxies}{Mpc^{-3}})$$ \n",
    "\n",
    "We use the given cross section of a galaxy to determine average distance traveled for a collision, $\\Sigma = 10^{-3}$Mpc$^2$. \n",
    "\n",
    "\n",
    "Imagining a cylinder with cross section = $\\Sigma$:\n",
    "$$V = \\Sigma l$$\n",
    "Setting $V N = 1$ to guarantee 1 collision, where N is mean number density calculated above. Solving for *l*\n",
    "$$ \\Sigma l N = 1$$\n",
    "$$ l = \\frac{1}{\\Sigma N}$$\n",
    "giving us:\n",
    "$$ l = 14.137166 Mpc$$\n",
    "To calculate average time, need to divide *l* by the velocity dispersion($\\sigma$)= 880$\\frac{km}{s}$:\n",
    "$$ t_{avg} = \\frac{l}{\\sigma} $$\n",
    "$$ t_{avg} = 15.7082 Gyrs $$\n",
    "\n",
    "This gives us $t_{avg}$*>Hubble Time* = 14 Gyrs\n",
    "\n",
    "\n",
    "Comparing to the collision time for Milky Way and Andromeda:\n",
    "\n",
    "Let *r* = separation between Milky Way and Andromeda = 700 kpc\n",
    "\n",
    "Let *v* = velocity of Andromeda towards Milky Way = 120 $\\frac{km}{s}$\n",
    "\n",
    "Giving:\n",
    "$$ t = \\frac{r}{v} = \\frac{700}{120}\\frac{kpc*s}{km} = 5.7 Gyrs$$\n",
    "\n",
    "More detailed calculations in the code below:\n"
   ]
  },
  {
   "cell_type": "code",
   "execution_count": 2,
   "metadata": {
    "collapsed": false
   },
   "outputs": [
    {
     "name": "stdout",
     "output_type": "stream",
     "text": [
      "Mean Number Density =  70.7355302630646 1 / Mpc3\n",
      "length per collision =  14.137166941154067 Mpc\n",
      "averge time between collisions =  15.708195308585159 Gyr\n",
      "Time until MW-Andromeda collision =  5.703787959759915 Gyr\n"
     ]
    }
   ],
   "source": [
    "N = 1000\n",
    "Rhm = 1.5 * u.Mpc\n",
    "r = Rhm \n",
    "V = (4/3)*np.pi*r**3\n",
    "mnd = N/V\n",
    "print (\"Mean Number Density = \",mnd)\n",
    "sigma = 10**(-3)*(u.Mpc)**2\n",
    "n = mnd\n",
    "l = 1/(sigma*n)\n",
    "print ('length per collision = ',l.to(u.Mpc))\n",
    "v_disp = 880 *(u.km/u.s)\n",
    "t_avg = l/v_disp\n",
    "print ('averge time between collisions = ',t_avg.to(u.Gyr))\n",
    "v_and = 120 * (u.km/u.s)\n",
    "r_and = 0.7 * u.Mpc\n",
    "t_and = r_and/v_and\n",
    "print('Time until MW-Andromeda collision = ',t_and.to(u.Gyr))"
   ]
  },
  {
   "cell_type": "code",
   "execution_count": null,
   "metadata": {
    "collapsed": true
   },
   "outputs": [],
   "source": [
    "# cosmology lens model\n",
    "# lens model (Mass,Dd, Ds, Dss)--> einstein radius (arcseconds) (500px x 500px)\n",
    "# define deflection angles\n",
    "# beta = theta - theta_e**2 / theta\n",
    "# theta is angle of pixel away from center of image --> distance from lens to where you observe object (angular distance to a pixel)\n",
    "# can calculate theta for any pixel\n",
    "# gives beta \n",
    "# convert beta into image and transfer flux value from original to where beta is. \n",
    "#  make sure width \n",
    "# image = np.zero(500,500)\n"
   ]
  },
  {
   "cell_type": "code",
   "execution_count": 170,
   "metadata": {
    "collapsed": false
   },
   "outputs": [
    {
     "ename": "KeyboardInterrupt",
     "evalue": "",
     "output_type": "error",
     "traceback": [
      "\u001b[0;31m---------------------------------------------------------------------------\u001b[0m",
      "\u001b[0;31mKeyboardInterrupt\u001b[0m                         Traceback (most recent call last)",
      "\u001b[0;32m<ipython-input-170-a322a34d39da>\u001b[0m in \u001b[0;36m<module>\u001b[0;34m()\u001b[0m\n\u001b[1;32m     33\u001b[0m     \u001b[0mbeta\u001b[0m \u001b[0;34m=\u001b[0m \u001b[0mnp\u001b[0m\u001b[0;34m.\u001b[0m\u001b[0msqrt\u001b[0m\u001b[0;34m(\u001b[0m\u001b[0mx_rlens\u001b[0m\u001b[0;34m**\u001b[0m\u001b[0;36m2\u001b[0m \u001b[0;34m+\u001b[0m \u001b[0my_rlens\u001b[0m\u001b[0;34m**\u001b[0m\u001b[0;36m2\u001b[0m\u001b[0;34m)\u001b[0m \u001b[0;31m# ang dist from center\u001b[0m\u001b[0;34m\u001b[0m\u001b[0m\n\u001b[1;32m     34\u001b[0m     \u001b[0mbeta\u001b[0m \u001b[0;34m=\u001b[0m \u001b[0mbeta\u001b[0m \u001b[0;34m*\u001b[0m \u001b[0mpix_ang_dist\u001b[0m \u001b[0;31m# converts pixel distances to arcsecs\u001b[0m\u001b[0;34m\u001b[0m\u001b[0m\n\u001b[0;32m---> 35\u001b[0;31m     \u001b[0;32mif\u001b[0m \u001b[0mbeta\u001b[0m \u001b[0;34m<=\u001b[0m \u001b[0mbeta_boundary\u001b[0m\u001b[0;34m:\u001b[0m\u001b[0;34m\u001b[0m\u001b[0m\n\u001b[0m\u001b[1;32m     36\u001b[0m         \u001b[0mtheta_p\u001b[0m \u001b[0;34m=\u001b[0m \u001b[0;34m(\u001b[0m\u001b[0;36m1\u001b[0m\u001b[0;34m/\u001b[0m\u001b[0;36m2\u001b[0m\u001b[0;34m)\u001b[0m\u001b[0;34m*\u001b[0m\u001b[0;34m(\u001b[0m\u001b[0mbeta\u001b[0m \u001b[0;34m+\u001b[0m \u001b[0mnp\u001b[0m\u001b[0;34m.\u001b[0m\u001b[0msqrt\u001b[0m\u001b[0;34m(\u001b[0m\u001b[0mbeta\u001b[0m\u001b[0;34m**\u001b[0m\u001b[0;36m2\u001b[0m \u001b[0;34m+\u001b[0m \u001b[0;36m4\u001b[0m\u001b[0;34m*\u001b[0m\u001b[0mtheta_e\u001b[0m\u001b[0;34m**\u001b[0m\u001b[0;36m2\u001b[0m\u001b[0;34m)\u001b[0m\u001b[0;34m)\u001b[0m \u001b[0;31m# arcsec\u001b[0m\u001b[0;34m\u001b[0m\u001b[0m\n\u001b[1;32m     37\u001b[0m         \u001b[0mtheta_n\u001b[0m \u001b[0;34m=\u001b[0m \u001b[0;34m(\u001b[0m\u001b[0;36m1\u001b[0m\u001b[0;34m/\u001b[0m\u001b[0;36m2\u001b[0m\u001b[0;34m)\u001b[0m\u001b[0;34m*\u001b[0m\u001b[0;34m(\u001b[0m\u001b[0mbeta\u001b[0m \u001b[0;34m-\u001b[0m \u001b[0mnp\u001b[0m\u001b[0;34m.\u001b[0m\u001b[0msqrt\u001b[0m\u001b[0;34m(\u001b[0m\u001b[0mbeta\u001b[0m\u001b[0;34m**\u001b[0m\u001b[0;36m2\u001b[0m \u001b[0;34m+\u001b[0m \u001b[0;36m4\u001b[0m\u001b[0;34m*\u001b[0m\u001b[0mtheta_e\u001b[0m\u001b[0;34m**\u001b[0m\u001b[0;36m2\u001b[0m\u001b[0;34m)\u001b[0m\u001b[0;34m)\u001b[0m \u001b[0;31m# arcsec\u001b[0m\u001b[0;34m\u001b[0m\u001b[0m\n",
      "\u001b[0;32m/home/dm1681/anaconda3/lib/python3.5/site-packages/astropy/units/quantity.py\u001b[0m in \u001b[0;36m__array_prepare__\u001b[0;34m(self, obj, context)\u001b[0m\n\u001b[1;32m    416\u001b[0m         \u001b[0;32melse\u001b[0m\u001b[0;34m:\u001b[0m  \u001b[0;31m# normal case: set up output as a Quantity\u001b[0m\u001b[0;34m\u001b[0m\u001b[0m\n\u001b[1;32m    417\u001b[0m \u001b[0;34m\u001b[0m\u001b[0m\n\u001b[0;32m--> 418\u001b[0;31m             \u001b[0mresult\u001b[0m \u001b[0;34m=\u001b[0m \u001b[0mself\u001b[0m\u001b[0;34m.\u001b[0m\u001b[0m_new_view\u001b[0m\u001b[0;34m(\u001b[0m\u001b[0mobj\u001b[0m\u001b[0;34m,\u001b[0m \u001b[0mresult_unit\u001b[0m\u001b[0;34m)\u001b[0m\u001b[0;34m\u001b[0m\u001b[0m\n\u001b[0m\u001b[1;32m    419\u001b[0m \u001b[0;34m\u001b[0m\u001b[0m\n\u001b[1;32m    420\u001b[0m         \u001b[0;31m# We now need to treat the case where the inputs have to be scaled -\u001b[0m\u001b[0;34m\u001b[0m\u001b[0;34m\u001b[0m\u001b[0m\n",
      "\u001b[0;32m/home/dm1681/anaconda3/lib/python3.5/site-packages/astropy/units/quantity.py\u001b[0m in \u001b[0;36m_new_view\u001b[0;34m(self, obj, unit)\u001b[0m\n\u001b[1;32m    605\u001b[0m                 \u001b[0msubclass\u001b[0m \u001b[0;34m=\u001b[0m \u001b[0mself\u001b[0m\u001b[0;34m.\u001b[0m\u001b[0m__class__\u001b[0m\u001b[0;34m\u001b[0m\u001b[0m\n\u001b[1;32m    606\u001b[0m \u001b[0;34m\u001b[0m\u001b[0m\n\u001b[0;32m--> 607\u001b[0;31m         \u001b[0mview\u001b[0m \u001b[0;34m=\u001b[0m \u001b[0mobj\u001b[0m\u001b[0;34m.\u001b[0m\u001b[0mview\u001b[0m\u001b[0;34m(\u001b[0m\u001b[0msubclass\u001b[0m\u001b[0;34m)\u001b[0m\u001b[0;34m\u001b[0m\u001b[0m\n\u001b[0m\u001b[1;32m    608\u001b[0m         \u001b[0mview\u001b[0m\u001b[0;34m.\u001b[0m\u001b[0m__array_finalize__\u001b[0m\u001b[0;34m(\u001b[0m\u001b[0mself\u001b[0m\u001b[0;34m)\u001b[0m\u001b[0;34m\u001b[0m\u001b[0m\n\u001b[1;32m    609\u001b[0m         \u001b[0;32mif\u001b[0m \u001b[0munit\u001b[0m \u001b[0;32mis\u001b[0m \u001b[0;32mnot\u001b[0m \u001b[0;32mNone\u001b[0m\u001b[0;34m:\u001b[0m\u001b[0;34m\u001b[0m\u001b[0m\n",
      "\u001b[0;32m/home/dm1681/anaconda3/lib/python3.5/site-packages/astropy/units/quantity.py\u001b[0m in \u001b[0;36m__array_finalize__\u001b[0;34m(self, obj)\u001b[0m\n\u001b[1;32m    280\u001b[0m \u001b[0;34m\u001b[0m\u001b[0m\n\u001b[1;32m    281\u001b[0m     \u001b[0;32mdef\u001b[0m \u001b[0m__array_finalize__\u001b[0m\u001b[0;34m(\u001b[0m\u001b[0mself\u001b[0m\u001b[0;34m,\u001b[0m \u001b[0mobj\u001b[0m\u001b[0;34m)\u001b[0m\u001b[0;34m:\u001b[0m\u001b[0;34m\u001b[0m\u001b[0m\n\u001b[0;32m--> 282\u001b[0;31m         \u001b[0mself\u001b[0m\u001b[0;34m.\u001b[0m\u001b[0m_unit\u001b[0m \u001b[0;34m=\u001b[0m \u001b[0mgetattr\u001b[0m\u001b[0;34m(\u001b[0m\u001b[0mobj\u001b[0m\u001b[0;34m,\u001b[0m \u001b[0;34m'_unit'\u001b[0m\u001b[0;34m,\u001b[0m \u001b[0;32mNone\u001b[0m\u001b[0;34m)\u001b[0m\u001b[0;34m\u001b[0m\u001b[0m\n\u001b[0m\u001b[1;32m    283\u001b[0m \u001b[0;34m\u001b[0m\u001b[0m\n\u001b[1;32m    284\u001b[0m         \u001b[0;31m# Copy info if the original had `info` defined.  Because of the way the\u001b[0m\u001b[0;34m\u001b[0m\u001b[0;34m\u001b[0m\u001b[0m\n",
      "\u001b[0;31mKeyboardInterrupt\u001b[0m: "
     ]
    }
   ],
   "source": [
    "image = plt.imread('gal.jpg')\n",
    "theta = np.ndarray(shape=(image.shape))\n",
    "alpha = np.ndarray(shape=(image.shape[0],image.shape[1]))\n",
    "# F.o.V = 3.1 x 3.1 arcmins\n",
    "# 3.1 arcmin / image.shape[0] = ang dist. of 1 pixel. \n",
    "pix_ang_dist = 5.54 * u.arcmin / (image.shape[1])\n",
    "pix_ang_dist = pix_ang_dist.to(u.arcsec)\n",
    "\n",
    "\n",
    "\n",
    "# need to define middle, position of lens:\n",
    "lens_pos = np.array([int(image.shape[0]/2),int(image.shape[1]/2)])\n",
    "# define beta for each pixel\n",
    "# define theta_e\n",
    "M = 10**14* const.M_sun\n",
    "x = 0.5 # distance to lens rel to distance to source\n",
    "d = 50000 * u.pc # distance to source\n",
    "\n",
    "\n",
    "theta_e = ((4 * const.G * M * (1-x))/(const.c**2 * d * x))**(1/2)\n",
    "theta_e = theta_e.decompose()\n",
    "theta_e = theta_e * u.rad\n",
    "theta_e = theta_e.to(u.arcsec)\n",
    "# theta_e = 12764 arcsec\n",
    "\n",
    "beta_boundary = 100 * u.arcsec \n",
    "#beta_image = np.ndarray(shape=image.shape)\n",
    "beta_image = image\n",
    "for (y,x,z),val in np.ndenumerate(image):\n",
    "    val = image[y][x][z]\n",
    "    x_rlens = x - lens_pos[1] #pixels\n",
    "    y_rlens = y - lens_pos[0] #pixels\n",
    "    beta = np.sqrt(x_rlens**2 + y_rlens**2) # ang dist from center\n",
    "    beta = beta * pix_ang_dist # converts pixel distances to arcsecs\n",
    "    if beta <= beta_boundary:\n",
    "        theta_p = (1/2)*(beta + np.sqrt(beta**2 + 4*theta_e**2)) # arcsec\n",
    "        theta_n = (1/2)*(beta - np.sqrt(beta**2 + 4*theta_e**2)) # arcsec\n",
    "        mag_n = (1-(theta_e**4)/(theta_n**4))**(-1) # dimensionless\n",
    "        mag_p = (1-(theta_e**4)/(theta_p**4))**(-1) # dimensionless\n",
    "        new_val_n = mag_n * val # some val corresponding to flux/lum\n",
    "        new_val_n = float(new_val_n)\n",
    "        new_val_p = mag_p * val # some val corresponding to flux/lum\n",
    "        new_val_p = float(new_val_p)\n",
    "        theta_n = theta_n / pix_ang_dist # converts theta_n to pixels\n",
    "        theta_p = theta_p / pix_ang_dist # converts theta_p to pixels\n",
    "        beta = beta / pix_ang_dist # converts beta to pixels\n",
    "        if beta == 0:\n",
    "            beta = 0.01 # removes divide by 0 error\n",
    "        x_new_n = (x_rlens/beta)*theta_n # rel to lens\n",
    "        x_new_n = x_new_n + lens_pos[1] # rel to top left (correct indices)\n",
    "        x_new_p = (x_rlens/beta)*theta_p # rel to lens\n",
    "        x_new_p = x_new_p + lens_pos[1] # rel to top left (correct indices)\n",
    "        y_new_n = (y_rlens/beta)*theta_n # rel to lens\n",
    "        y_new_n = y_new_n + lens_pos[0] # rel to top left (correct indices)\n",
    "        y_new_p = (y_rlens/beta)*theta_p # rel to lens\n",
    "        y_new_p = y_new_p + lens_pos[0] # rel to top left (correct indices)\n",
    "        x_new_n = int(x_new_n)\n",
    "        x_new_p = int(x_new_p)\n",
    "        y_new_p = int(y_new_p)\n",
    "        y_new_n = int(y_new_n)\n",
    "        if x_new_n <= image.shape[1] and x_new_p <= image.shape[1] and y_new_n <= image.shape[0] and y_new_p <= image.shape[0]:\n",
    "            beta_image[y_new_n][x_new_n][z] = new_val_n\n",
    "            beta_image[y_new_p][x_new_p][z] = new_val_p\n",
    "        else:\n",
    "            beta_image[y][x][z] = val #this might overwrite the above lensing changes made for some pixels. \n",
    "    \n"
   ]
  },
  {
   "cell_type": "code",
   "execution_count": 162,
   "metadata": {
    "collapsed": false
   },
   "outputs": [
    {
     "data": {
      "text/plain": [
       "<matplotlib.image.AxesImage at 0x7f8c64bbb710>"
      ]
     },
     "execution_count": 162,
     "metadata": {},
     "output_type": "execute_result"
    },
    {
     "data": {
      "image/png": "[encoded data removed]",
      "text/plain": [
       "<matplotlib.figure.Figure at 0x7f8c64c4efd0>"
      ]
     },
     "metadata": {},
     "output_type": "display_data"
    }
   ],
   "source": [
    "inv_beta_image = beta_image\n",
    "fig,ax = plt.subplots(1,3)\n",
    "ax[0].imshow(image)\n",
    "ax[1].imshow(inv_beta_image)\n",
    "ax[2].imshow(beta_image)"
   ]
  },
  {
   "cell_type": "code",
   "execution_count": 168,
   "metadata": {
    "collapsed": false
   },
   "outputs": [
    {
     "data": {
      "text/plain": [
       "-1.0"
      ]
     },
     "execution_count": 168,
     "metadata": {},
     "output_type": "execute_result"
    }
   ],
   "source": [
    "number = -1\n",
    "float(number)"
   ]
  },
  {
   "cell_type": "code",
   "execution_count": null,
   "metadata": {
    "collapsed": false
   },
   "outputs": [],
   "source": [
    "image = plt.imread('hudf_smallest.jpg')\n",
    "theta = np.ndarray(shape=(image.shape[0],image.shape[1]))\n",
    "alpha = np.ndarray(shape=(image.shape[0],image.shape[1]))\n",
    "# F.o.V = 3.1 x 3.1 arcmins\n",
    "# 3.1 arcmin / image.shape[0] = ang dist. of 1 pixel. \n",
    "pix_ang_dist = 3.1 * u.arcmin / (image.shape[0])\n",
    "\n",
    "\n",
    "\n",
    "\n",
    "# need to define middle, position of lens:\n",
    "lens_pos = np.array([image.shape[0]/2,image.shape[1]/2])\n",
    "# define beta for each pixel\n",
    "M = 100*const.M_sun\n",
    "\n",
    "for (x,y,z),val in np.ndenumerate(image):\n",
    "    x_rlens = x - lens_pos[0]\n",
    "    y_rlens = y - lens_pos[1]\n",
    "    theta[x][y] = np.sqrt(x_rlens**2 + y_rlens**2)\n",
    "\n",
    "for (x,y),val in np.ndenumerate(theta):\n",
    "    a = ((4 * const.G * M)/(const.c**2 * val*pix_ang_dist))\n",
    "    Tracer()()\n",
    "    a = a.value\n",
    "    alpha[x][y] = a\n",
    "    \n",
    "alpha"
   ]
  },
  {
   "cell_type": "code",
   "execution_count": 53,
   "metadata": {
    "collapsed": false
   },
   "outputs": [
    {
     "data": {
      "text/plain": [
       "array([[[ 0.,  0.],\n",
       "        [ 0.,  0.]],\n",
       "\n",
       "       [[ 0.,  0.],\n",
       "        [ 0.,  0.]],\n",
       "\n",
       "       [[ 0.,  0.],\n",
       "        [ 0.,  0.]],\n",
       "\n",
       "       [[ 0.,  0.],\n",
       "        [ 0.,  0.]]])"
      ]
     },
     "execution_count": 53,
     "metadata": {},
     "output_type": "execute_result"
    }
   ],
   "source": [
    "testarray = np.ndarray(shape=(4,2,2))\n",
    "testarray\n",
    "\n",
    "    "
   ]
  },
  {
   "cell_type": "code",
   "execution_count": null,
   "metadata": {
    "collapsed": false
   },
   "outputs": [],
   "source": []
  },
  {
   "cell_type": "code",
   "execution_count": null,
   "metadata": {
    "collapsed": true
   },
   "outputs": [],
   "source": []
  }
 ],
 "metadata": {
  "anaconda-cloud": {},
  "kernelspec": {
   "display_name": "Python [default]",
   "language": "python",
   "name": "python3"
  },
  "language_info": {
   "codemirror_mode": {
    "name": "ipython",
    "version": 3
   },
   "file_extension": ".py",
   "mimetype": "text/x-python",
   "name": "python",
   "nbconvert_exporter": "python",
   "pygments_lexer": "ipython3",
   "version": "3.5.2"
  }
 },
 "nbformat": 4,
 "nbformat_minor": 1
}
