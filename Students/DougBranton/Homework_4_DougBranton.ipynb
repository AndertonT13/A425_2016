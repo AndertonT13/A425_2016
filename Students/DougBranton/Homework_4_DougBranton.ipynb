{
 "cells": [
  {
   "cell_type": "markdown",
   "metadata": {},
   "source": [
    "_Doug Branton  \n",
    "Astro 425  \n",
    "Homework 4_"
   ]
  },
  {
   "cell_type": "code",
   "execution_count": 2,
   "metadata": {
    "collapsed": false
   },
   "outputs": [
    {
     "name": "stdout",
     "output_type": "stream",
     "text": [
      "Populating the interactive namespace from numpy and matplotlib\n"
     ]
    }
   ],
   "source": [
    "%pylab inline\n",
    "\n",
    "import numpy as np\n",
    "import matplotlib as mpl\n",
    "import matplotlib.pyplot as plt\n",
    "import astropy.units as u\n",
    "import astropy.constants as const\n",
    "from scipy.integrate import quad"
   ]
  },
  {
   "cell_type": "markdown",
   "metadata": {},
   "source": [
    "## Problem 1."
   ]
  },
  {
   "cell_type": "markdown",
   "metadata": {},
   "source": [
    "__a.__ In order to calculate the redshift to distant galaxies, it is useful to consider a photon travelling from a galaxy towards some observer. This allows us to utilize the Doppler Shift, which yields the following relation:\n",
    "\n",
    "$$ z=\\frac{\\lambda_{obs}-\\lambda_{em}}{\\lambda_{em}}=\\frac{a(t_0)}{a(t_e)}-1$$\n",
    "\n",
    "We will use this relation in the form:\n",
    "\n",
    "$$ 1+z=\\frac{a(t_0)}{a(t_e)}$$\n",
    "\n",
    "Solve for $a(t_e)$ and consider the scale factor for each galaxy relative to the observer:\n",
    "\n",
    "$$ a(t_e)=\\frac{a(t_0)}{(1+z)}=\\frac{1}{1+z}$$\n",
    "\n",
    "$$ a(t_{e,1})=\\frac{1}{1+z_1}\\ \\ \\  \\& \\ \\ \\ \\ a(t_{e,2})=\\frac{1}{1+z_2} $$\n",
    "\n",
    "From here, we can determine the redshift between the galaxies $z_{1,2}$:\n",
    "\n",
    "$$1+z_{1,2}=\\frac{a(t_{e,1})}{a(t_{e,2})}=\\frac{1+z_2}{1+z_1}$$\n",
    "\n",
    "And thus:\n",
    "\n",
    "$$z_{1,2}=\\frac{1+z_2}{1+z_1}-1$$\n"
   ]
  },
  {
   "cell_type": "markdown",
   "metadata": {},
   "source": [
    "__b.__ We are considering a flat Einstein-deSitter Universe, which gives the conditions $\\Omega_{m}=1$ and consequently, $\\omega=0$. We are interested in calculating the angular diameter distance in three scenarios. From the observer to galaxy 1, from the observer to galaxy 2, and from galaxy 1 to galaxy 2. We are additionally given $z_1=0.5$ and $z_2=1.6$.\n",
    "\n",
    "Start with the definition of angular diameter distance, in the case where the universe is flat:\n",
    "\n",
    "$$d_A=\\frac{S_k(r)}{(1+z)}=\\frac{r}{(1+z)}$$\n",
    "\n",
    "Where r is the comoving distance, which is defined as:\n",
    "\n",
    "$$r=c\\int_{t_e}^{t_o}\\frac{dt}{a(t)}$$\n",
    "\n",
    "For a single component universe with $\\omega=0$, this yields (from book):\n",
    "\n",
    "$$r= \\frac{2c}{H_0} \\left[1-\\frac{1}{\\sqrt{1+z}}\\right]$$\n",
    "\n",
    "$$d_A=\\frac{2c}{H_0} \\left[\\frac{1}{1+z}-\\frac{1}{(1+z)^{-3/2}}\\right]$$"
   ]
  },
  {
   "cell_type": "code",
   "execution_count": 29,
   "metadata": {
    "collapsed": false
   },
   "outputs": [
    {
     "name": "stdout",
     "output_type": "stream",
     "text": [
      "Angular diameter distance for galaxy 1:  1047.86554391 Mpc\n",
      "Angular diameter distance for galaxy 2:  1251.30844177 Mpc\n",
      "Angular diameter distance from galaxy 1 to 2:  1188.19351436 Mpc\n"
     ]
    }
   ],
   "source": [
    "#1.b Code\n",
    "H0=70*u.km/(u.second*u.megaparsec)\n",
    "H0_s=(H0.to(1/u.second)).value\n",
    "H0_Gyr=(H0.to(1/u.gigayear)).value\n",
    "c=(const.c).value\n",
    "\n",
    "def rs_rel(z_1,z_2):\n",
    "    \"\"\"Calculate Relative redshift between two objects with specified redshifts.\n",
    "    Equation from 1.a\"\"\"\n",
    "    \n",
    "    return (1+z_2)/(1+z_1)-1.0\n",
    "\n",
    "def ang_dia_dist(z):\n",
    "    \"\"\"Calculate the angular diameter distance for an object at redshift z\"\"\"\n",
    "    \n",
    "    return ((2*c)/H0_s)*((1.0/(1.0+z))-(1.0/(1.0+z)**(3.0/2.0)))\n",
    "\n",
    "z_12=rs_rel(0.5,1.6)\n",
    "\n",
    "print \"Angular diameter distance for galaxy 1: \", (ang_dia_dist(0.5)* u.meter).to(u.Mpc)\n",
    "print \"Angular diameter distance for galaxy 2: \", (ang_dia_dist(1.6)* u.meter).to(u.Mpc)\n",
    "print \"Angular diameter distance from galaxy 1 to 2: \", (ang_dia_dist(z_12)* u.meter).to(u.Mpc)"
   ]
  },
  {
   "cell_type": "markdown",
   "metadata": {},
   "source": [
    "__c.__ These values are reasonable relative to one another. We expect for larger redshifts (locally, gets fuzzy at large z) to correlate with a larger angular diameter distance as they both measure length. And if we have a larger angular diameter distance, then by $d_A=\\frac{l}{\\theta}$ we should expect for their size to appear smaller. This is intuitive as our results find that objects viewed over larger distances appear smaller. Their ranking of distance further illustrates this given that the smallest angular diameter distance (to galaxy 1) comes from the smallest redshift, while the distance between the two is next largest and corresponds to a larger redshift and finally the largest angular diameter distance corresponds to the largest redshift."
   ]
  },
  {
   "cell_type": "markdown",
   "metadata": {},
   "source": [
    "## Problem 2."
   ]
  },
  {
   "cell_type": "markdown",
   "metadata": {
    "collapsed": true
   },
   "source": [
    "For this problem, we are interested in the galaxy merger rate in the Coma cluster. We have the initial conditions $N \\approx 1000$ galaxies within half-mass radius, $r_h \\approx 1.5 \\ Mpc$, cross-section of a typical galaxy, $\\Sigma \\approx 10^{-3} \\ Mpc^2$ and velocity dispersion $\\sigma \\approx 880 \\ kms^{-3}$\n",
    "\n",
    "We begin by calculating the mean number density of galaxies within the half-mass radius. This is obtainable using $N$, $r_h$ and the assumption of a spherical galaxy cluster:\n",
    "\n",
    "$$\\bar{n}=\\frac{N}{\\frac{4}{3}\\pi r_h^3}=\\frac{1000}{\\frac{4}{3}\\pi (1.5)^3}=70.736 \\ \\frac{galaxies}{Mpc^3}$$\n",
    "\n",
    "Next, we want to consider the mean free path of a galaxy in the Coma cluster. The mean free path is defined below, and we can simply plug in given values:\n",
    "\n",
    "$$\\lambda=\\frac{1}{\\bar{n}\\Sigma}=\\frac{1}{70.736*10^{-3}}=14.137 \\ Mpc$$\n",
    "\n",
    "With the mean free path and the velocity dispersion, we use the relation:\n",
    "\n",
    "$$ \\sqrt{<u^2>}=\\lambda z$$\n",
    "\n",
    "where z is the collisional frequency. This simplifies to:\n",
    "\n",
    "$$ z= \\frac{\\lambda}{\\sqrt{3} \\sigma}=\\frac{14.137 \\ Mpc}{880 \\frac{km}{s}}= 2.862*10^{17} \\ s=9.075 \\ Gyr$$\n",
    "\n",
    "This collisional frequency z is effectively the average time between collisions for a galaxy in the Coma cluster. This time is less than the hubble time. We can compare this with the collision time between Andromeda (M31) and the Milky\tWay. Andromeda is $700 \\ kpc$ away and moving towards us as $120 \\ kms^{-1}$.\n",
    "\n",
    "$$t_c = \\frac{700 kpc}{120 \\frac{km}{s}}=1.799*10^{17} \\ s=5.708 \\ Gyr$$\n",
    "\n",
    "As we can see, the average collision time in the Coma cluster is much longer than the collision time between M31 and the Milky Way."
   ]
  },
  {
   "cell_type": "code",
   "execution_count": null,
   "metadata": {
    "collapsed": false
   },
   "outputs": [],
   "source": []
  },
  {
   "cell_type": "code",
   "execution_count": null,
   "metadata": {
    "collapsed": true
   },
   "outputs": [],
   "source": []
  }
 ],
 "metadata": {
  "kernelspec": {
   "display_name": "Python 2",
   "language": "python",
   "name": "python2"
  },
  "language_info": {
   "codemirror_mode": {
    "name": "ipython",
    "version": 2
   },
   "file_extension": ".py",
   "mimetype": "text/x-python",
   "name": "python",
   "nbconvert_exporter": "python",
   "pygments_lexer": "ipython2",
   "version": "2.7.11"
  }
 },
 "nbformat": 4,
 "nbformat_minor": 1
}
