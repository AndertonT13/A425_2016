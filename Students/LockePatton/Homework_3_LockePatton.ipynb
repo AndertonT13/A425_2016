{
 "cells": [
  {
   "cell_type": "markdown",
   "metadata": {},
   "source": [
    "# HW3 - Locke Patton"
   ]
  },
  {
   "cell_type": "code",
   "execution_count": 1,
   "metadata": {
    "collapsed": false
   },
   "outputs": [],
   "source": [
    "import numpy as np\n",
    "from scipy import integrate\n",
    "from scipy.integrate import odeint\n",
    "import scipy.special as special\n",
    "import astropy.units as u\n",
    "import matplotlib.pyplot as plt\n",
    "import warnings\n",
    "from __future__ import division\n",
    "import os\n",
    "%matplotlib inline\n",
    "# warnings.filterwarnings('ignore')"
   ]
  },
  {
   "cell_type": "markdown",
   "metadata": {},
   "source": [
    "## Problem 1\n",
    "\n",
    "#### Show how we get the 3rd of the Friedman equations from the first two.\n",
    "We assume the following:\n",
    "\n",
    "EQ 1:\n",
    "$$\\frac{\\ddot{a}(x)}{a(x)} = \\frac{-4\\pi G}{3c^2}[\\epsilon(t)+3P(t)]$$\n",
    "\n",
    "EQ 2:\n",
    "$$\\big(\\frac{\\dot{a}(x)}{a(x)}\\big)^2 = \\frac{8\\pi G \\epsilon(t)}{3c^2}-\\frac{kc^2}{a(t)^2}$$\n",
    "\n",
    "First, we take the derivative of equation 2 with respect to time:\n",
    "\n",
    "$$\\frac{d}{dt}\\big(\\frac{\\dot{a}(x)}{a(x)}\\big)^2 \n",
    "= \\frac{d}{dt}\\big(\\frac{8\\pi G \\epsilon(t)}{3c^2}-\\frac{kc^2}{a(t)^2}\\big)$$\n",
    "\n",
    "$$2\\big(\\frac{\\dot{a}(x)}{a(x)}\\big)\\big(\\frac{\\ddot{a}(x)}{a(x)}-\\frac{\\dot{a}(x)}{a(x)^2}\\dot{a}(x))\n",
    "= (\\frac{8\\pi G \\dot{\\epsilon(t)}}{3c^2}-\\frac{2 k c^2}{a(t)^3}\\dot{a}(x))$$\n",
    "\n",
    "Plugging in equation 1 for $\\frac{\\ddot{a}(x)}{a(x)}$ and cancelling the factors of 2 while combining objects with $\\frac{\\dot{a}(x)}{a(x)}$ to the left side:\n",
    "\n",
    "$$ \\Big[\\frac{-4\\pi G}{3c^2}[\\epsilon(t)+3P(t)] - \\big(\\frac{\\dot{a}(x)}{a(x)}\\big)^2\\Big] \\frac{\\dot{a}(x)}{a(x)}\n",
    "= \\frac{4\\pi G}{3c^2}\\dot{\\epsilon(t)} + \\frac{kc^2}{a(t)^3}\\dot{a}(x)$$\n",
    "\n",
    "Rearraning:\n",
    "\n",
    "$$ \\frac{-4\\pi G}{3c^2} \\Big[\\frac{\\dot{a}(x)}{a(x)} [\\epsilon(t)+3P(t)] + \\dot{\\epsilon(t)}\\Big] \n",
    "= \\frac{kc^2}{a(t)^3}\\dot{a}(x)+ \\big(\\frac{\\dot{a}(x)}{a(x)}\\big)^3 $$\n",
    "\n",
    "But from equation 2, we can plug in $\\big(\\frac{\\dot{a}(x)}{a(x)}\\big)^2 $ to the right-most term. So the left side of this equation becomes:\n",
    "\n",
    "$$ \\frac{kc^2}{a(t)^3}\\dot{a}(x)+ \\frac{\\dot{a}(x)}{a(x)} \\big( \\frac{8\\pi G \\epsilon(t)}{3c^2}-\\frac{kc^2}{a(t)^2} \\big) $$\n",
    "\n",
    "$$  \\frac{\\dot{a}(x)}{a(x)} \\big( \\frac{8\\pi G \\epsilon(t)}{3c^2}\\big) + \\frac{kc^2 \\dot{a}(x)}{a(t)^3} - \\frac{kc^2 \\dot{a}(x)}{a(t)^3} $$\n",
    "\n",
    "$$  \\big( \\frac{4\\pi G}{3c^2}\\big) \\frac{\\dot{a}(x)}{a(x)}\\big[2 \\epsilon(t)\\big] $$\n",
    "\n",
    "Plugging this in, we see:\n",
    "\n",
    "$$ \\frac{-4\\pi G}{3c^2} \\Big[\\frac{\\dot{a}(x)}{a(x)} [\\epsilon(t)+3P(t)] + \\dot{\\epsilon(t)}\\Big] \n",
    "= \\big( \\frac{4\\pi G}{3c^2}\\big) \\frac{\\dot{a}(x)}{a(x)}\\big[2 \\epsilon(t)\\big] $$\n",
    "\n",
    "And finally:\n",
    "\n",
    "$$  \\Big[\\frac{\\dot{a}(x)}{a(x)} [\\epsilon(t)+3P(t)] + \\dot{\\epsilon(t)}\\Big] \n",
    "= \\frac{\\dot{a}(x)}{a(x)}\\big[2 \\epsilon(t)\\big] $$\n",
    "\n",
    "$$  \\frac{\\dot{a}(x)}{a(x)} \\big[3\\epsilon(t)+3P(t)\\big] + \\dot{\\epsilon(t)} = 0 $$"
   ]
  },
  {
   "cell_type": "markdown",
   "metadata": {},
   "source": [
    "## Problem 2\n",
    "\n",
    "\n",
    "##### Using your understanding of how to integrate (from the second homework) write a program that integrates the Friedman equation,\n",
    "\n",
    "$$ \\Big( \\frac{H(z)}{H_o} \\Big)^2 = \\big( \\Omega_{r,o} (1+z)^4 + \\Omega_{m,o} (1+z)^3 + \\Omega_{\\Gamma,o} + (1- \\Omega_o) (1+z)^4  \\big) $$\n",
    "\n",
    "##### Using this program calculate and plot (a) the comoving distance from z=0 to 10 (b) the age of the universe (at a given redshift) from z=0 to z=10. Calculate these results for the two universes given below\n",
    "(a) a flat universe with Ωm,0 = 0.3, Ωr,0=0., ΩΛ,0=0.7\n",
    "\n",
    "(b) a closed universe with Ωm,0 = 10., Ωr,0=0.0, and ΩΛ = 0\n",
    "\n",
    "Note: to calculate the age of the universe remember that H(z) is directly related to dz/dt . Use H0=70 km s-1 Mpc-1 in your calculations and plot the age in Gyr."
   ]
  },
  {
   "cell_type": "code",
   "execution_count": 2,
   "metadata": {
    "collapsed": false
   },
   "outputs": [
    {
     "name": "stdout",
     "output_type": "stream",
     "text": [
      "Value for Ho used:\n",
      "70.0 km / (Mpc s)\n",
      "2.26854550263e-18 1 / s\n"
     ]
    }
   ],
   "source": [
    "Ho_Current = 70 * u.km / (u.Mpc * u.s)\n",
    "i = ['Value for Ho used:',Ho_Current,Ho_Current.decompose()]\n",
    "for l in enumerate(i):\n",
    "    print l[1]"
   ]
  },
  {
   "cell_type": "markdown",
   "metadata": {
    "collapsed": false
   },
   "source": [
    "$$r(z) = \\int_0^z \\frac{c \\, dz}{H(z)}$$\n",
    "<center>where</center>\n",
    "$$ H(z) = H_o \\Big( \\Omega_{r,o} (1+z)^4 + \\Omega_{m,o} (1+z)^3 + \\Omega_{\\Gamma,o} + (1- \\Omega_o) (1+z)^4  \\Big)^\\frac{1}{2} $$\n",
    "\n",
    "$$r(z) = \\int_0^z \\frac{c \\, dz}{H_o( \\Omega_{r,o} (1+z)^4 + \\Omega_{m,o} (1+z)^3 + \\Omega_{\\Lambda,o} + (1- \\Omega_o) (1+z)^4 )^\\frac{1}{2}}$$\n",
    "\n",
    "To calculate lookback time:\n",
    "\n",
    "$$a = \\frac{1}{1+z}$$\n",
    "\n",
    "$$z = \\frac{1}{a}-1$$\n",
    "\n",
    "$$\\frac{dz}{dt} = -\\frac{\\dot{a(z)}}{a(z)^2} $$\n",
    "\n",
    "$$\\frac{dz}{dt} = -\\frac{H(t)}{a(z)} $$\n",
    "\n",
    "$$dz = -H(t)(1+z)dt $$\n",
    "\n",
    "$$t(z) = \\int_0^z \\frac{dz}{H(z)(1+z)} $$\n",
    "\n",
    "$$t(z) = \\int_0^z \\frac{dz}{H_o(1+z)( \\Omega_{r,o} (1+z)^4 + \\Omega_{m,o} (1+z)^3 + \\Omega_{\\Lambda,o} + (1- \\Omega_o) (1+z)^4 )^\\frac{1}{2}}$$"
   ]
  },
  {
   "cell_type": "code",
   "execution_count": 3,
   "metadata": {
    "collapsed": false
   },
   "outputs": [],
   "source": [
    "omega_uni_1=[0.3,0.0,0.7]\n",
    "omega_uni_2=[10.0,0.0,0.0]\n",
    "\n",
    "c = 3 * 10**8 * u.m/u.s\n",
    "Const = (c/Ho_Current).to(u.Mpc).value\n",
    "\n",
    "def comovingcoord(z,omegas):\n",
    "    omega_m0, omega_r0, omega_l0 = omegas\n",
    "    omega_0 = sum(omegas)\n",
    "    return  Const / (omega_r0*(1+z)**4 + omega_m0*(1+z)**3 + omega_l0 + (1-omega_0)*(1+z)**2 )**.5\n",
    "\n",
    "def time(z,omegas):\n",
    "    omega_m0, omega_r0, omega_l0 = omegas\n",
    "    omega_0 = sum(omegas)\n",
    "    return  1 /(Ho_Current.to(1/u.s).value*(1+z)*(omega_r0*(1+z)**4 + omega_m0*(1+z)**3 + omega_l0 + (1-omega_0)*(1+z)**2 )**.5) "
   ]
  },
  {
   "cell_type": "code",
   "execution_count": 4,
   "metadata": {
    "collapsed": false
   },
   "outputs": [
    {
     "ename": "NameError",
     "evalue": "name 't' is not defined",
     "output_type": "error",
     "traceback": [
      "\u001b[0;31m---------------------------------------------------------------------------\u001b[0m",
      "\u001b[0;31mNameError\u001b[0m                                 Traceback (most recent call last)",
      "\u001b[0;32m<ipython-input-4-1c8677f35125>\u001b[0m in \u001b[0;36m<module>\u001b[0;34m()\u001b[0m\n\u001b[1;32m      8\u001b[0m \u001b[0mUniverse\u001b[0m\u001b[0;34m[\u001b[0m\u001b[0;34m'2'\u001b[0m\u001b[0;34m]\u001b[0m\u001b[0;34m[\u001b[0m\u001b[0;34m't'\u001b[0m\u001b[0;34m]\u001b[0m\u001b[0;34m=\u001b[0m\u001b[0;34m[\u001b[0m\u001b[0;34m]\u001b[0m\u001b[0;34m\u001b[0m\u001b[0m\n\u001b[1;32m      9\u001b[0m \u001b[0;34m\u001b[0m\u001b[0m\n\u001b[0;32m---> 10\u001b[0;31m \u001b[0;32mfor\u001b[0m \u001b[0mi\u001b[0m \u001b[0;32min\u001b[0m \u001b[0menumerate\u001b[0m\u001b[0;34m(\u001b[0m\u001b[0mt\u001b[0m\u001b[0;34m)\u001b[0m\u001b[0;34m:\u001b[0m\u001b[0;34m\u001b[0m\u001b[0m\n\u001b[0m\u001b[1;32m     11\u001b[0m     \u001b[0mUniverse\u001b[0m\u001b[0;34m[\u001b[0m\u001b[0;34m'z'\u001b[0m\u001b[0;34m]\u001b[0m\u001b[0;34m.\u001b[0m\u001b[0mappend\u001b[0m\u001b[0;34m(\u001b[0m\u001b[0mi\u001b[0m\u001b[0;34m[\u001b[0m\u001b[0;36m1\u001b[0m\u001b[0;34m]\u001b[0m\u001b[0;34m)\u001b[0m\u001b[0;34m\u001b[0m\u001b[0m\n\u001b[1;32m     12\u001b[0m     \u001b[0mUniverse\u001b[0m\u001b[0;34m[\u001b[0m\u001b[0;34m'1'\u001b[0m\u001b[0;34m]\u001b[0m\u001b[0;34m[\u001b[0m\u001b[0;34m'r'\u001b[0m\u001b[0;34m]\u001b[0m\u001b[0;34m.\u001b[0m\u001b[0mappend\u001b[0m\u001b[0;34m(\u001b[0m\u001b[0mintegrate\u001b[0m\u001b[0;34m.\u001b[0m\u001b[0mquad\u001b[0m\u001b[0;34m(\u001b[0m\u001b[0mcomovingcoord\u001b[0m\u001b[0;34m,\u001b[0m \u001b[0;36m0\u001b[0m\u001b[0;34m,\u001b[0m \u001b[0mi\u001b[0m\u001b[0;34m[\u001b[0m\u001b[0;36m1\u001b[0m\u001b[0;34m]\u001b[0m\u001b[0;34m,\u001b[0m\u001b[0margs\u001b[0m\u001b[0;34m=\u001b[0m\u001b[0;34m(\u001b[0m\u001b[0momega_uni_1\u001b[0m\u001b[0;34m,\u001b[0m\u001b[0;34m)\u001b[0m\u001b[0;34m)\u001b[0m\u001b[0;34m[\u001b[0m\u001b[0;36m0\u001b[0m\u001b[0;34m]\u001b[0m\u001b[0;34m)\u001b[0m\u001b[0;34m\u001b[0m\u001b[0m\n",
      "\u001b[0;31mNameError\u001b[0m: name 't' is not defined"
     ]
    }
   ],
   "source": [
    "Universe = {}\n",
    "Universe['z']=[]\n",
    "Universe['1']={}\n",
    "Universe['2']={}\n",
    "Universe['1']['r']=[]\n",
    "Universe['2']['r']=[]\n",
    "Universe['1']['t']=[]\n",
    "Universe['2']['t']=[]\n",
    "\n",
    "for i in enumerate(t):\n",
    "    Universe['z'].append(i[1])\n",
    "    Universe['1']['r'].append(integrate.quad(comovingcoord, 0, i[1],args=(omega_uni_1,))[0])\n",
    "    Universe['2']['r'].append(integrate.quad(comovingcoord, 0, i[1],args=(omega_uni_2,))[0])\n",
    "    Universe['1']['t'].append(integrate.quad(time, 0, i[1], args=(omega_uni_1,))[0])\n",
    "    Universe['2']['t'].append(integrate.quad(time, 0, i[1], args=(omega_uni_2,))[0])\n",
    "    \n",
    "t_universe_1 = integrate.quad(time, 0, 10000, args=(omega_uni_1,))[0] * u.s\n",
    "t_universe_2 = integrate.quad(time, 0, 10000, args=(omega_uni_2,))[0] * u.s\n",
    "print 'Universe 1',t_universe_1.to(u.Gyr)\n",
    "print 'Universe 2',t_universe_2.to(u.Gyr)"
   ]
  },
  {
   "cell_type": "code",
   "execution_count": null,
   "metadata": {
    "collapsed": false
   },
   "outputs": [],
   "source": [
    "fig,ax = plt.subplots(1,1)\n",
    "fig.set_size_inches(14,7)\n",
    "\n",
    "alpha=.5\n",
    "ax.plot(Universe['z'],Universe['1']['r'],marker='',c='b',linestyle='-',alpha=alpha,label='$\\Omega_{m0} = 0.3$, $\\Omega_{r0}=0.0$, $\\Omega_{l0}=0.7$');\n",
    "ax.plot(Universe['z'],Universe['2']['r'],marker='',c='g',linestyle='-',alpha=alpha,label='$\\Omega_{m0} = 10.0$, $\\Omega_{r0}=0.0$, $\\Omega_{l0}=0.0$');\n",
    "\n",
    "ax.set_title('Co-Moving Distance vs. Redshift',fontsize=20)\n",
    "ax.set_xlabel('z')\n",
    "ax.set_ylabel('r(z), Mpc')\n",
    "\n",
    "ax.grid()\n",
    "ax.legend(loc=2);"
   ]
  },
  {
   "cell_type": "code",
   "execution_count": null,
   "metadata": {
    "collapsed": false
   },
   "outputs": [],
   "source": [
    "fig,ax = plt.subplots(1,1)\n",
    "fig.set_size_inches(14,7)\n",
    "\n",
    "alpha=.5\n",
    "\n",
    "ax.plot(Universe['z'],(Universe['1']['t']*u.s).to(u.Gyr),marker='',c='b',linestyle='-',alpha=alpha,label='$\\Omega_{m0} = 0.3$, $\\Omega_{r0}=0.0$, $\\Omega_{l0}=0.7$');\n",
    "ax.plot(Universe['z'],(Universe['2']['t']*u.s).to(u.Gyr),marker='',c='g',linestyle='-',alpha=alpha,label='$\\Omega_{m0} = 10.0$, $\\Omega_{r0}=0.0$, $\\Omega_{l0}=0.0$');\n",
    "\n",
    "ax.set_title('Lookback Time vs. Redshift',fontsize=20)\n",
    "ax.set_xlabel('z')\n",
    "ax.set_ylabel('Lookback Time, Gyr')\n",
    "\n",
    "ax.grid()\n",
    "ax.legend(loc=2);"
   ]
  },
  {
   "cell_type": "code",
   "execution_count": null,
   "metadata": {
    "collapsed": false
   },
   "outputs": [],
   "source": [
    "fig,ax = plt.subplots(1,1)\n",
    "fig.set_size_inches(14,7)\n",
    "\n",
    "alpha=.5\n",
    "\n",
    "ax.plot(Universe['z'],t_universe_1.to(u.Gyr)-(Universe['1']['t']*u.s).to(u.Gyr),marker='',c='b',linestyle='-',alpha=alpha,label='$\\Omega_{m0} = 0.3$, $\\Omega_{r0}=0.0$, $\\Omega_{l0}=0.7$');\n",
    "ax.plot(Universe['z'],t_universe_2.to(u.Gyr)-(Universe['2']['t']*u.s).to(u.Gyr),marker='',c='g',linestyle='-',alpha=alpha,label='$\\Omega_{m0} = 10.0$, $\\Omega_{r0}=0.0$, $\\Omega_{l0}=0.0$');\n",
    "\n",
    "ax.set_title('Age of Universe vs. Redshift',fontsize=20)\n",
    "ax.set_xlabel('z')\n",
    "ax.set_ylabel('Age of Universe, Gyr')\n",
    "\n",
    "ax.grid()\n",
    "ax.legend(loc=1);"
   ]
  },
  {
   "cell_type": "markdown",
   "metadata": {},
   "source": [
    "## Problem 3\n",
    "\n",
    "\n",
    "##### Use the program to find the value of Ωr for a radiation only open universe (no cosmological constant) that would give the same age of the universe (for the current day) as our benchmark flat universe with $\\Omega_{m,o} = .3$, and $\\Omega_{\\Lambda,o} = 0.7$.\n",
    "\n",
    "The age of the Universe in Benchmark Flat Universe with $\\Omega_{m,o} = .3$, and $\\Omega_{\\Lambda,o} = 0.7$ was found before:"
   ]
  },
  {
   "cell_type": "code",
   "execution_count": null,
   "metadata": {
    "collapsed": false
   },
   "outputs": [],
   "source": [
    "t_universe_1.to(u.Gyr)"
   ]
  },
  {
   "cell_type": "markdown",
   "metadata": {},
   "source": [
    "Iternating over possible Omegra r values:"
   ]
  },
  {
   "cell_type": "code",
   "execution_count": null,
   "metadata": {
    "collapsed": false,
    "scrolled": false
   },
   "outputs": [],
   "source": [
    "omega_r = np.linspace(3,5,1000)\n",
    "\n",
    "for i in omega_r:\n",
    "    omega_new=[0,i,1]\n",
    "    t_lookback = integrate.quad(time, 0, 100, args=(omega_new,))[0] \n",
    "    diff = (t_lookback*u.s).to(u.Gyr) - t_universe_2.to(u.Gyr)\n",
    "    if (diff < 10**-3*u.Gyr) == True:\n",
    "        print 'Omega r is %s within %s.'%(i, diff)\n",
    "        break"
   ]
  },
  {
   "cell_type": "code",
   "execution_count": null,
   "metadata": {
    "collapsed": false
   },
   "outputs": [],
   "source": [
    "!say \"Thanks, Professor Connolly.\""
   ]
  },
  {
   "cell_type": "code",
   "execution_count": null,
   "metadata": {
    "collapsed": true
   },
   "outputs": [],
   "source": []
  },
  {
   "cell_type": "code",
   "execution_count": null,
   "metadata": {
    "collapsed": true
   },
   "outputs": [],
   "source": []
  }
 ],
 "metadata": {
  "anaconda-cloud": {},
  "kernelspec": {
   "display_name": "Python [Root]",
   "language": "python",
   "name": "Python [Root]"
  },
  "language_info": {
   "codemirror_mode": {
    "name": "ipython",
    "version": 2
   },
   "file_extension": ".py",
   "mimetype": "text/x-python",
   "name": "python",
   "nbconvert_exporter": "python",
   "pygments_lexer": "ipython2",
   "version": "2.7.12"
  }
 },
 "nbformat": 4,
 "nbformat_minor": 0
}
